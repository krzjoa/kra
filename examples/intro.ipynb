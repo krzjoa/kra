{
 "cells": [
  {
   "cell_type": "markdown",
   "metadata": {},
   "source": [
    "# `kra` - polars extensions"
   ]
  },
  {
   "cell_type": "code",
   "execution_count": 1,
   "metadata": {},
   "outputs": [],
   "source": [
    "import polars as pl\n",
    "import kra"
   ]
  },
  {
   "cell_type": "code",
   "execution_count": null,
   "metadata": {},
   "outputs": [
    {
     "data": {
      "text/html": [
       "<div><style>\n",
       ".dataframe > thead > tr,\n",
       ".dataframe > tbody > tr {\n",
       "  text-align: right;\n",
       "  white-space: pre-wrap;\n",
       "}\n",
       "</style>\n",
       "<small>shape: (3, 4)</small><table border=\"1\" class=\"dataframe\"><thead><tr><th>b</th><th>c</th><th>d</th><th>type</th></tr><tr><td>i64</td><td>i64</td><td>i64</td><td>str</td></tr></thead><tbody><tr><td>1</td><td>2</td><td>3</td><td>&quot;a&quot;</td></tr><tr><td>4</td><td>5</td><td>6</td><td>&quot;b&quot;</td></tr><tr><td>7</td><td>8</td><td>9</td><td>&quot;c&quot;</td></tr></tbody></table></div>"
      ],
      "text/plain": [
       "shape: (3, 4)\n",
       "┌─────┬─────┬─────┬──────┐\n",
       "│ b   ┆ c   ┆ d   ┆ type │\n",
       "│ --- ┆ --- ┆ --- ┆ ---  │\n",
       "│ i64 ┆ i64 ┆ i64 ┆ str  │\n",
       "╞═════╪═════╪═════╪══════╡\n",
       "│ 1   ┆ 2   ┆ 3   ┆ a    │\n",
       "│ 4   ┆ 5   ┆ 6   ┆ b    │\n",
       "│ 7   ┆ 8   ┆ 9   ┆ c    │\n",
       "└─────┴─────┴─────┴──────┘"
      ]
     },
     "execution_count": 5,
     "metadata": {},
     "output_type": "execute_result"
    }
   ],
   "source": [
    "nested_dict = {\n",
    "    'a': {'b': 1, 'c': 2, 'd': 3},\n",
    "    'b': {'b': 4, 'c': 5, 'd': 6},\n",
    "    'c': {'b': 7, 'c': 8, 'd': 9},\n",
    "}\n",
    "\n",
    "df = pl.from_dod(nested_dict, 'type')\n",
    "df"
   ]
  },
  {
   "cell_type": "code",
   "execution_count": 6,
   "metadata": {},
   "outputs": [
    {
     "data": {
      "text/plain": [
       "{'a': {'b': 1, 'c': 2, 'd': 3, 'type': 'a'},\n",
       " 'b': {'b': 4, 'c': 5, 'd': 6, 'type': 'b'},\n",
       " 'c': {'b': 7, 'c': 8, 'd': 9, 'type': 'c'}}"
      ]
     },
     "execution_count": 6,
     "metadata": {},
     "output_type": "execute_result"
    }
   ],
   "source": [
    "df.to_dod(\"type\")"
   ]
  },
  {
   "cell_type": "code",
   "execution_count": 9,
   "metadata": {},
   "outputs": [
    {
     "data": {
      "text/html": [
       "<div><style>\n",
       ".dataframe > thead > tr,\n",
       ".dataframe > tbody > tr {\n",
       "  text-align: right;\n",
       "  white-space: pre-wrap;\n",
       "}\n",
       "</style>\n",
       "<small>shape: (3, 4)</small><table border=\"1\" class=\"dataframe\"><thead><tr><th>B</th><th>C</th><th>D</th><th>Type</th></tr><tr><td>i64</td><td>i64</td><td>i64</td><td>str</td></tr></thead><tbody><tr><td>1</td><td>2</td><td>3</td><td>&quot;a&quot;</td></tr><tr><td>4</td><td>5</td><td>6</td><td>&quot;b&quot;</td></tr><tr><td>7</td><td>8</td><td>9</td><td>&quot;c&quot;</td></tr></tbody></table></div>"
      ],
      "text/plain": [
       "shape: (3, 4)\n",
       "┌─────┬─────┬─────┬──────┐\n",
       "│ B   ┆ C   ┆ D   ┆ Type │\n",
       "│ --- ┆ --- ┆ --- ┆ ---  │\n",
       "│ i64 ┆ i64 ┆ i64 ┆ str  │\n",
       "╞═════╪═════╪═════╪══════╡\n",
       "│ 1   ┆ 2   ┆ 3   ┆ a    │\n",
       "│ 4   ┆ 5   ┆ 6   ┆ b    │\n",
       "│ 7   ┆ 8   ┆ 9   ┆ c    │\n",
       "└─────┴─────┴─────┴──────┘"
      ]
     },
     "execution_count": 9,
     "metadata": {},
     "output_type": "execute_result"
    }
   ],
   "source": [
    "df.cols.to_camelcalse(True)"
   ]
  },
  {
   "cell_type": "code",
   "execution_count": 10,
   "metadata": {},
   "outputs": [
    {
     "data": {
      "text/html": [
       "<div><style>\n",
       ".dataframe > thead > tr,\n",
       ".dataframe > tbody > tr {\n",
       "  text-align: right;\n",
       "  white-space: pre-wrap;\n",
       "}\n",
       "</style>\n",
       "<small>shape: (3, 4)</small><table border=\"1\" class=\"dataframe\"><thead><tr><th>B</th><th>C</th><th>D</th><th>Type</th></tr><tr><td>i64</td><td>i64</td><td>i64</td><td>str</td></tr></thead><tbody><tr><td>1</td><td>2</td><td>3</td><td>&quot;a&quot;</td></tr><tr><td>4</td><td>5</td><td>6</td><td>&quot;b&quot;</td></tr><tr><td>7</td><td>8</td><td>9</td><td>&quot;c&quot;</td></tr></tbody></table></div>"
      ],
      "text/plain": [
       "shape: (3, 4)\n",
       "┌─────┬─────┬─────┬──────┐\n",
       "│ B   ┆ C   ┆ D   ┆ Type │\n",
       "│ --- ┆ --- ┆ --- ┆ ---  │\n",
       "│ i64 ┆ i64 ┆ i64 ┆ str  │\n",
       "╞═════╪═════╪═════╪══════╡\n",
       "│ 1   ┆ 2   ┆ 3   ┆ a    │\n",
       "│ 4   ┆ 5   ┆ 6   ┆ b    │\n",
       "│ 7   ┆ 8   ┆ 9   ┆ c    │\n",
       "└─────┴─────┴─────┴──────┘"
      ]
     },
     "execution_count": 10,
     "metadata": {},
     "output_type": "execute_result"
    }
   ],
   "source": [
    "df"
   ]
  },
  {
   "cell_type": "code",
   "execution_count": 2,
   "metadata": {},
   "outputs": [],
   "source": [
    "df = pl.from_dict({\n",
    "    'a': [1, 2, 3, 4,],\n",
    "    'b': [None, None, None, None]\n",
    "})"
   ]
  },
  {
   "cell_type": "code",
   "execution_count": null,
   "metadata": {},
   "outputs": [],
   "source": [
    "df.with_columns(\n",
    "    pl.col('a').enc\n",
    ")"
   ]
  },
  {
   "cell_type": "markdown",
   "metadata": {},
   "source": [
    "# Rust extension"
   ]
  },
  {
   "cell_type": "code",
   "execution_count": null,
   "metadata": {},
   "outputs": [],
   "source": [
    "kra.encode_labels()"
   ]
  }
 ],
 "metadata": {
  "kernelspec": {
   "display_name": "Python 3",
   "language": "python",
   "name": "python3"
  },
  "language_info": {
   "codemirror_mode": {
    "name": "ipython",
    "version": 3
   },
   "file_extension": ".py",
   "mimetype": "text/x-python",
   "name": "python",
   "nbconvert_exporter": "python",
   "pygments_lexer": "ipython3",
   "version": "3.12.6"
  }
 },
 "nbformat": 4,
 "nbformat_minor": 2
}
