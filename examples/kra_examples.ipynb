{
 "cells": [
  {
   "cell_type": "markdown",
   "id": "49d0d1be",
   "metadata": {},
   "source": [
    "# kra - Example Use Cases\n",
    "\n",
    "This notebook demonstrates example use cases for the `kra` polars extensions, covering all functions and methods."
   ]
  },
  {
   "cell_type": "code",
   "execution_count": 1,
   "id": "b269e05b",
   "metadata": {},
   "outputs": [],
   "source": [
    "import polars as pl\n",
    "import kra"
   ]
  },
  {
   "cell_type": "markdown",
   "id": "748d7e8d",
   "metadata": {},
   "source": [
    "## Dict of Dicts <-> DataFrame"
   ]
  },
  {
   "cell_type": "code",
   "execution_count": 2,
   "id": "254780d5",
   "metadata": {},
   "outputs": [
    {
     "data": {
      "text/html": [
       "<div><style>\n",
       ".dataframe > thead > tr,\n",
       ".dataframe > tbody > tr {\n",
       "  text-align: right;\n",
       "  white-space: pre-wrap;\n",
       "}\n",
       "</style>\n",
       "<small>shape: (2, 3)</small><table border=\"1\" class=\"dataframe\"><thead><tr><th>a</th><th>b</th><th>key</th></tr><tr><td>i64</td><td>i64</td><td>str</td></tr></thead><tbody><tr><td>1</td><td>2</td><td>&quot;x&quot;</td></tr><tr><td>3</td><td>4</td><td>&quot;y&quot;</td></tr></tbody></table></div>"
      ],
      "text/plain": [
       "shape: (2, 3)\n",
       "┌─────┬─────┬─────┐\n",
       "│ a   ┆ b   ┆ key │\n",
       "│ --- ┆ --- ┆ --- │\n",
       "│ i64 ┆ i64 ┆ str │\n",
       "╞═════╪═════╪═════╡\n",
       "│ 1   ┆ 2   ┆ x   │\n",
       "│ 3   ┆ 4   ┆ y   │\n",
       "└─────┴─────┴─────┘"
      ]
     },
     "execution_count": 2,
     "metadata": {},
     "output_type": "execute_result"
    }
   ],
   "source": [
    "dod = {'x': {'a': 1, 'b': 2}, 'y': {'a': 3, 'b': 4}}\n",
    "df = pl.from_dod(dod, 'key')\n",
    "df"
   ]
  },
  {
   "cell_type": "code",
   "execution_count": 3,
   "id": "342f1839",
   "metadata": {},
   "outputs": [
    {
     "data": {
      "text/plain": [
       "{'x': {'a': 1, 'b': 2, 'key': 'x'}, 'y': {'a': 3, 'b': 4, 'key': 'y'}}"
      ]
     },
     "execution_count": 3,
     "metadata": {},
     "output_type": "execute_result"
    }
   ],
   "source": [
    "df.to_dod('key')"
   ]
  },
  {
   "cell_type": "markdown",
   "id": "8de76b52",
   "metadata": {},
   "source": [
    "## from_arraylike"
   ]
  },
  {
   "cell_type": "code",
   "execution_count": 4,
   "id": "5f54bc04",
   "metadata": {},
   "outputs": [
    {
     "ename": "AttributeError",
     "evalue": "module 'polars' has no attribute 'from_arraylike'",
     "output_type": "error",
     "traceback": [
      "\u001b[1;31m---------------------------------------------------------------------------\u001b[0m",
      "\u001b[1;31mAttributeError\u001b[0m                            Traceback (most recent call last)",
      "Cell \u001b[1;32mIn[4], line 3\u001b[0m\n\u001b[0;32m      1\u001b[0m \u001b[38;5;28;01mimport\u001b[39;00m \u001b[38;5;21;01mnumpy\u001b[39;00m \u001b[38;5;28;01mas\u001b[39;00m \u001b[38;5;21;01mnp\u001b[39;00m\n\u001b[0;32m      2\u001b[0m arr \u001b[38;5;241m=\u001b[39m np\u001b[38;5;241m.\u001b[39marray([[\u001b[38;5;241m1\u001b[39m, \u001b[38;5;241m2\u001b[39m, \u001b[38;5;241m3\u001b[39m], [\u001b[38;5;241m4\u001b[39m, \u001b[38;5;241m5\u001b[39m, \u001b[38;5;241m6\u001b[39m]])\n\u001b[1;32m----> 3\u001b[0m \u001b[43mpl\u001b[49m\u001b[38;5;241;43m.\u001b[39;49m\u001b[43mfrom_arraylike\u001b[49m(arr, schema\u001b[38;5;241m=\u001b[39m[\u001b[38;5;124m\"\u001b[39m\u001b[38;5;124ma\u001b[39m\u001b[38;5;124m\"\u001b[39m, \u001b[38;5;124m\"\u001b[39m\u001b[38;5;124mb\u001b[39m\u001b[38;5;124m\"\u001b[39m], orient\u001b[38;5;241m=\u001b[39m\u001b[38;5;124m\"\u001b[39m\u001b[38;5;124mcol\u001b[39m\u001b[38;5;124m\"\u001b[39m)\n",
      "File \u001b[1;32mc:\\Users\\krzysztof.joachimiak\\AppData\\Local\\Programs\\Python\\Python312\\Lib\\site-packages\\polars\\__init__.py:431\u001b[0m, in \u001b[0;36m__getattr__\u001b[1;34m(name)\u001b[0m\n\u001b[0;32m    428\u001b[0m     \u001b[38;5;28;01mreturn\u001b[39;00m \u001b[38;5;28mgetattr\u001b[39m(dtgroup, name)\n\u001b[0;32m    430\u001b[0m msg \u001b[38;5;241m=\u001b[39m \u001b[38;5;124mf\u001b[39m\u001b[38;5;124m\"\u001b[39m\u001b[38;5;124mmodule \u001b[39m\u001b[38;5;132;01m{\u001b[39;00m\u001b[38;5;18m__name__\u001b[39m\u001b[38;5;132;01m!r}\u001b[39;00m\u001b[38;5;124m has no attribute \u001b[39m\u001b[38;5;132;01m{\u001b[39;00mname\u001b[38;5;132;01m!r}\u001b[39;00m\u001b[38;5;124m\"\u001b[39m\n\u001b[1;32m--> 431\u001b[0m \u001b[38;5;28;01mraise\u001b[39;00m \u001b[38;5;167;01mAttributeError\u001b[39;00m(msg)\n",
      "\u001b[1;31mAttributeError\u001b[0m: module 'polars' has no attribute 'from_arraylike'"
     ]
    }
   ],
   "source": [
    "import numpy as np\n",
    "arr = np.array([[1, 2, 3], [4, 5, 6]])\n",
    "pl.from_arraylike(arr, schema=[\"a\", \"b\"], orient=\"col\")"
   ]
  },
  {
   "cell_type": "markdown",
   "id": "ec96434b",
   "metadata": {},
   "source": [
    "## maybe_col"
   ]
  },
  {
   "cell_type": "code",
   "execution_count": null,
   "id": "fa298463",
   "metadata": {},
   "outputs": [],
   "source": [
    "df = pl.DataFrame({'a': [1, 2]})\n",
    "df.select(kra.maybe_col('a', 0))"
   ]
  },
  {
   "cell_type": "code",
   "execution_count": null,
   "id": "bc1a17e2",
   "metadata": {},
   "outputs": [],
   "source": [
    "df.select(kra.maybe_col('b', 0))"
   ]
  },
  {
   "cell_type": "markdown",
   "id": "cb9f9023",
   "metadata": {},
   "source": [
    "## split_entries_by"
   ]
  },
  {
   "cell_type": "code",
   "execution_count": null,
   "id": "3d3307a3",
   "metadata": {},
   "outputs": [],
   "source": [
    "df = pl.DataFrame({'a': [1, 2], 'n': [2, 3]})\n",
    "df.split_entries_by('n')"
   ]
  },
  {
   "cell_type": "markdown",
   "id": "527450dc",
   "metadata": {},
   "source": [
    "## GroupBy to_dicts"
   ]
  },
  {
   "cell_type": "code",
   "execution_count": null,
   "id": "796da76b",
   "metadata": {},
   "outputs": [],
   "source": [
    "df = pl.DataFrame({'g': ['a', 'a', 'b'], 'x': [1, 2, 3]})\n",
    "df.groupby('g').to_dicts()"
   ]
  },
  {
   "cell_type": "markdown",
   "id": "a1704f0d",
   "metadata": {},
   "source": [
    "## Series to_set"
   ]
  },
  {
   "cell_type": "code",
   "execution_count": null,
   "id": "9591e0de",
   "metadata": {},
   "outputs": [],
   "source": [
    "s = pl.Series([1, 2, 2, 3])\n",
    "s.to_set()"
   ]
  },
  {
   "cell_type": "markdown",
   "id": "6d9ae3a7",
   "metadata": {},
   "source": [
    "## Column name transformations"
   ]
  },
  {
   "cell_type": "code",
   "execution_count": null,
   "id": "e0b2b369",
   "metadata": {},
   "outputs": [],
   "source": [
    "df = pl.DataFrame({'First Name': [1], 'Last Name': [2]})\n",
    "df.cols.to_snakecase()"
   ]
  },
  {
   "cell_type": "code",
   "execution_count": null,
   "id": "475c7a8b",
   "metadata": {},
   "outputs": [],
   "source": [
    "df.cols.to_camelcalse()"
   ]
  },
  {
   "cell_type": "code",
   "execution_count": null,
   "id": "cc91d5bf",
   "metadata": {},
   "outputs": [],
   "source": [
    "df.cols.to_lowercase()"
   ]
  },
  {
   "cell_type": "code",
   "execution_count": null,
   "id": "ba4d5ac7",
   "metadata": {},
   "outputs": [],
   "source": [
    "df.cols.to_uppercase()"
   ]
  },
  {
   "cell_type": "code",
   "execution_count": null,
   "id": "0b4e8369",
   "metadata": {},
   "outputs": [],
   "source": [
    "df.cols.to_titlecase()"
   ]
  },
  {
   "cell_type": "code",
   "execution_count": null,
   "id": "77a81a54",
   "metadata": {},
   "outputs": [],
   "source": [
    "df.cols.replace('Name', 'Label')"
   ]
  },
  {
   "cell_type": "markdown",
   "id": "d5bea0b1",
   "metadata": {},
   "source": [
    "## Column presence checks"
   ]
  },
  {
   "cell_type": "code",
   "execution_count": null,
   "id": "31c08211",
   "metadata": {},
   "outputs": [],
   "source": [
    "df = pl.DataFrame({'a': [1], 'b': [2]})\n",
    "df.cols.has_all(['a', 'b'])"
   ]
  },
  {
   "cell_type": "code",
   "execution_count": null,
   "id": "396cccf0",
   "metadata": {},
   "outputs": [],
   "source": [
    "df.cols.has_any(['b', 'c'])"
   ]
  },
  {
   "cell_type": "code",
   "execution_count": null,
   "id": "63bc20c4",
   "metadata": {},
   "outputs": [],
   "source": [
    "df.cols.has_exactly(['a', 'b'])"
   ]
  },
  {
   "cell_type": "markdown",
   "id": "38473642",
   "metadata": {},
   "source": [
    "## Safe column rename"
   ]
  },
  {
   "cell_type": "code",
   "execution_count": null,
   "id": "85a8743c",
   "metadata": {},
   "outputs": [],
   "source": [
    "df.cols.rename({'a': 'x', 'c': 'y'})"
   ]
  },
  {
   "cell_type": "markdown",
   "id": "638f5335",
   "metadata": {},
   "source": [
    "## Label encoding (Expr and Series)"
   ]
  },
  {
   "cell_type": "code",
   "execution_count": null,
   "id": "b2173e70",
   "metadata": {},
   "outputs": [],
   "source": [
    "df = pl.DataFrame({'animal': ['cat', 'dog', 'cat']})\n",
    "df.with_columns(pl.col('animal').label.encode().alias('encoded'))"
   ]
  },
  {
   "cell_type": "code",
   "execution_count": null,
   "id": "11000abc",
   "metadata": {},
   "outputs": [],
   "source": [
    "s = pl.Series(['cat', 'dog', 'cat'])\n",
    "s.label.encode()"
   ]
  },
  {
   "cell_type": "markdown",
   "id": "640b2440",
   "metadata": {},
   "source": [
    "## drop_null_cols"
   ]
  },
  {
   "cell_type": "code",
   "execution_count": null,
   "id": "de955fc1",
   "metadata": {},
   "outputs": [],
   "source": [
    "df = pl.DataFrame({'a': [1, 2], 'b': [None, None]})\n",
    "df.drop_null_cols()"
   ]
  },
  {
   "cell_type": "markdown",
   "id": "2721b66b",
   "metadata": {},
   "source": [
    "## fork"
   ]
  },
  {
   "cell_type": "code",
   "execution_count": null,
   "id": "ce4c7b40",
   "metadata": {},
   "outputs": [],
   "source": [
    "df = pl.DataFrame({'a': [1, 2]})\n",
    "forks = df.fork([{'b': [10, 20]}, {'c': [100, 200]}])\n",
    "for f in forks:\n",
    "    print(f)"
   ]
  }
 ],
 "metadata": {
  "kernelspec": {
   "display_name": "Python 3",
   "language": "python",
   "name": "python3"
  },
  "language_info": {
   "codemirror_mode": {
    "name": "ipython",
    "version": 3
   },
   "file_extension": ".py",
   "mimetype": "text/x-python",
   "name": "python",
   "nbconvert_exporter": "python",
   "pygments_lexer": "ipython3",
   "version": "3.12.6"
  }
 },
 "nbformat": 4,
 "nbformat_minor": 5
}
